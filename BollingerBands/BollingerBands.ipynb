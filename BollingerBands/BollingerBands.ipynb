{
  "nbformat": 4,
  "nbformat_minor": 0,
  "metadata": {
    "colab": {
      "name": "BollingerBands",
      "provenance": []
    },
    "kernelspec": {
      "name": "python3",
      "display_name": "Python 3"
    },
    "language_info": {
      "name": "python"
    }
  },
  "cells": [
    {
      "cell_type": "code",
      "source": [
        "!pip install blankly"
      ],
      "metadata": {
        "id": "YSdqSesPyMcF"
      },
      "execution_count": null,
      "outputs": []
    },
    {
      "cell_type": "code",
      "source": [
        "!blankly init"
      ],
      "metadata": {
        "id": "-_FSsBbr11gC"
      },
      "execution_count": null,
      "outputs": []
    },
    {
      "cell_type": "code",
      "execution_count": 3,
      "metadata": {
        "id": "W3SU74nqxtpV"
      },
      "outputs": [],
      "source": [
        "import blankly"
      ]
    },
    {
      "cell_type": "code",
      "source": [
        "def init(symbol, state: blankly.StrategyState):\n",
        "    # Download price data for initialization\n",
        "    state.variables['history'] = state.interface.history(symbol, to=50, return_as='list',\n",
        "                                                         resolution=state.resolution)['close']\n",
        "    state.variables['owns_position'] = False"
      ],
      "metadata": {
        "id": "jrFbBDrVx8Hm"
      },
      "execution_count": 11,
      "outputs": []
    },
    {
      "cell_type": "code",
      "source": [
        "def price_event(price, symbol, state: blankly.StrategyState):\n",
        "    \"\"\" This function will give an updated price every 15 seconds from our definition below \"\"\"\n",
        "    state.variables['history'].append(price)\n",
        "    # exit if we don't have enough populated information yet\n",
        "    if len(state.variables['history']) < 14:\n",
        "        return \n",
        "    bbands = blankly.indicators.bbands(state.variables['history'][-14:])\n",
        "    bbands_low = bbands[0]\n",
        "    bbands_high = bbands[2]\n",
        "    if bbands_low > price and not state.variables['owns_position']:\n",
        "      if blankly.trunc(state.interface.cash/price,2) > 0:\n",
        "        state.interface.market_order(symbol, side='buy', size= blankly.trunc(state.interface.cash/price,2))\n",
        "        state.variables['owns_position'] = True\n",
        "    elif (bbands_low < price and state.variables['owns_position']):\n",
        "      sell = blankly.trunc(state.interface.account[state.base_asset].available, 2)\n",
        "      if sell > 0:\n",
        "        state.interface.market_order(symbol, side = 'sell', size = sell)\n",
        "        state.variables['owns_position'] = False"
      ],
      "metadata": {
        "id": "PuiJL5-1x_wy"
      },
      "execution_count": 46,
      "outputs": []
    },
    {
      "cell_type": "code",
      "source": [
        "def price_baseline(price,symbol,state: blankly.StrategyState):\n",
        "\tbuy = blankly.trunc(state.interface.cash/price, 2)\n",
        "\tif buy > 0:\n",
        "\t\tstate.interface.market_order(symbol, side='buy', size=buy)"
      ],
      "metadata": {
        "id": "vzQaUiRoLqh3"
      },
      "execution_count": 31,
      "outputs": []
    },
    {
      "cell_type": "code",
      "source": [
        "if __name__ == \"__main__\":\n",
        "    # Authenticate Alpaca Strategy\n",
        "    exchange = blankly.FTX()\n",
        "    # Use our strategy helper on Alpaca\n",
        "    strategy = blankly.Strategy(exchange)\n",
        "\n",
        "    # Run the price event function every time we check for a new price - by default that is 15 seconds\n",
        "    strategy.add_price_event(price_event, symbol='SOL-USD', resolution='1d', init=init)\n",
        "    # Start the strategy. This will begin each of the price event ticks\n",
        "    # strategy.start()\n",
        "    # Or backtest using this\n",
        "    results = strategy.backtest(to='1y', initial_values={'USD': 10000})\n",
        "    print(results)"
      ],
      "metadata": {
        "colab": {
          "base_uri": "https://localhost:8080/"
        },
        "id": "BIrhNZRoybY-",
        "outputId": "3b73d4a9-c919-447c-d20c-42255f24edcd"
      },
      "execution_count": 52,
      "outputs": [
        {
          "output_type": "stream",
          "name": "stderr",
          "text": [
            "INFO: No portfolio name to load specified, defaulting to the first in the file: (portfolio). This is fine if there is only one portfolio in use.\n"
          ]
        },
        {
          "output_type": "stream",
          "name": "stdout",
          "text": [
            "\n",
            "Backtesting...\n",
            "Progress: [##########] 100% Done...\n",
            "\n",
            "Historical Dataframes: \n",
            "Account History: \n",
            "        SOL       USD          time  Account Value (USD)\n",
            "0      0.00  10000.00  1.621119e+09          10000.00000\n",
            "1      0.00  10000.00  1.621119e+09          10000.00000\n",
            "2      0.00  10000.00  1.621206e+09          10000.00000\n",
            "3      0.00  10000.00  1.621292e+09          10000.00000\n",
            "4      0.00  10000.00  1.621379e+09          10000.00000\n",
            "..      ...       ...           ...                  ...\n",
            "361  278.81      0.09  1.652223e+09          14156.66775\n",
            "362  278.81      0.09  1.652310e+09          12393.19450\n",
            "363    0.00  13621.93  1.652396e+09          13621.93000\n",
            "364    0.00  13621.93  1.652483e+09          13621.93000\n",
            "365    0.00  13621.93  1.652569e+09          13621.93000\n",
            "\n",
            "[366 rows x 4 columns]\n",
            "Account Returns: \n",
            "             time     value\n",
            "0    1.621119e+09       NaN\n",
            "1    1.621206e+09  0.000000\n",
            "2    1.621292e+09  0.000000\n",
            "3    1.621379e+09  0.000000\n",
            "4    1.621465e+09  0.000000\n",
            "..            ...       ...\n",
            "360  1.652223e+09  0.073352\n",
            "361  1.652310e+09 -0.002004\n",
            "362  1.652396e+09 -0.124568\n",
            "363  1.652483e+09  0.099146\n",
            "364  1.652569e+09  0.000000\n",
            "\n",
            "[365 rows x 2 columns]\n",
            "Resampled Account Value: \n",
            "             time        value\n",
            "0    1.621119e+09  10000.00000\n",
            "1    1.621206e+09  10000.00000\n",
            "2    1.621292e+09  10000.00000\n",
            "3    1.621379e+09  10000.00000\n",
            "4    1.621465e+09  10000.00000\n",
            "..            ...          ...\n",
            "360  1.652223e+09  14185.10000\n",
            "361  1.652310e+09  14156.66775\n",
            "362  1.652396e+09  12393.19450\n",
            "363  1.652483e+09  13621.93000\n",
            "364  1.652569e+09  13621.93000\n",
            "\n",
            "[365 rows x 2 columns]\n",
            "Blankly Metrics: \n",
            "Calmar Ratio:                      1.03\n",
            "Compound Annual Growth Rate (%):   36.0%\n",
            "Conditional Value-at-Risk:         15.29\n",
            "Cumulative Returns (%):            36.0%\n",
            "Max Drawdown (%):                  26.0%\n",
            "Resampled Time:                    86400.0\n",
            "Risk Free Return Rate:             0.0\n",
            "Sharpe Ratio:                      0.81\n",
            "Sortino Ratio:                     0.34\n",
            "Value-at-Risk:                     0.0\n",
            "Variance (%):                      10.92%\n",
            "Volatility:                        0.33\n",
            "\n"
          ]
        },
        {
          "output_type": "stream",
          "name": "stderr",
          "text": [
            "INFO: Make an account to take advantage of the platform backtest viewer: https://app.blankly.finance/RETIe0J8EPSQz7wizoJX0OAFb8y1/EZkgTZMLJVaZK6kNy0mv/2b2ff92c-ee41-42b3-9afb-387de9e4f894/backtest\n"
          ]
        }
      ]
    }
  ]
}